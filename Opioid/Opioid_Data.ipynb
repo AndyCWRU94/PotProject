{
 "cells": [
  {
   "cell_type": "code",
   "execution_count": 1,
   "metadata": {},
   "outputs": [],
   "source": [
    "import pandas as pd\n",
    "import numpy as np\n",
    "import matplotlib.pyplot as plt\n",
    "\n",
    "op_file_2012 = \"Opioid raw_data (2012).csv\"\n",
    "op_file_2013 = \"Opioid raw_data (2013).csv\"\n",
    "op_file_2014 = \"Opioid raw_data (2014).csv\"\n",
    "op_file_2015 = \"Opioid raw_data (2015).csv\"\n",
    "op_file_2016 = \"Opioid raw_data (2016).csv\"\n",
    "\n",
    "op_data_2012 = pd.read_csv(op_file_2012)\n",
    "op_data_2013 = pd.read_csv(op_file_2013)\n",
    "op_data_2014 = pd.read_csv(op_file_2014)\n",
    "op_data_2015 = pd.read_csv(op_file_2015)\n",
    "op_data_2016 = pd.read_csv(op_file_2016)"
   ]
  },
  {
   "cell_type": "code",
   "execution_count": 2,
   "metadata": {},
   "outputs": [],
   "source": [
    "op_df_2012 = op_data_2012.dropna()\n",
    "op_df_2013 = op_data_2013.dropna()\n",
    "op_df_2014 = op_data_2014.dropna()\n",
    "op_df_2015 = op_data_2015.dropna()\n",
    "op_df_2016 = op_data_2016.dropna()"
   ]
  },
  {
   "cell_type": "code",
   "execution_count": 3,
   "metadata": {},
   "outputs": [],
   "source": [
    "op_df_2012 = op_df_2012.set_index(\"Location\")\n",
    "op_df_2013 = op_df_2013.set_index(\"Location\")\n",
    "op_df_2014 = op_df_2014.set_index(\"Location\")\n",
    "op_df_2015 = op_df_2015.set_index(\"Location\")\n",
    "op_df_2016 = op_df_2016.set_index(\"Location\")"
   ]
  },
  {
   "cell_type": "code",
   "execution_count": 4,
   "metadata": {},
   "outputs": [],
   "source": [
    "op_2012 = op_df_2012.loc[[\"United States\",\"Arizona\", \"Colorado\", \"Florida\", \"Ohio\", \"Washington\"]]\n",
    "op_2013 = op_df_2013.loc[[\"United States\",\"Arizona\", \"Colorado\", \"Florida\", \"Ohio\", \"Washington\"]]\n",
    "op_2014 = op_df_2014.loc[[\"United States\",\"Arizona\", \"Colorado\", \"Florida\", \"Ohio\", \"Washington\"]]\n",
    "op_2015 = op_df_2015.loc[[\"United States\",\"Arizona\", \"Colorado\", \"Florida\", \"Ohio\", \"Washington\"]]\n",
    "op_2016 = op_df_2016.loc[[\"United States\",\"Arizona\", \"Colorado\", \"Florida\", \"Ohio\", \"Washington\"]]"
   ]
  },
  {
   "cell_type": "code",
   "execution_count": 5,
   "metadata": {},
   "outputs": [],
   "source": [
    "op_2012_rn = op_2012.rename(columns={\"Opioid Overdose Death Rate (Age-Adjusted)\":\"Opioid OD Death Rate (2012)\", \"Percent Change in Opioid Overdose Death Rate from Prior Year\":\"% Change in Opioid OD Death Rate from Prior Year (2012)\"})\n",
    "op_2013_rn = op_2013.rename(columns={\"Opioid Overdose Death Rate (Age-Adjusted)\":\"Opioid OD Death Rate (2013)\", \"Percent Change in Opioid Overdose Death Rate from Prior Year\":\"% Change in Opioid OD Death Rate from Prior Year (2013)\"})\n",
    "op_2014_rn = op_2014.rename(columns={\"Opioid Overdose Death Rate (Age-Adjusted)\":\"Opioid OD Death Rate (2014)\", \"Percent Change in Opioid Overdose Death Rate from Prior Year\":\"% Change in Opioid OD Death Rate from Prior Year (2014)\"})\n",
    "op_2015_rn = op_2015.rename(columns={\"Opioid Overdose Death Rate (Age-Adjusted)\":\"Opioid OD Death Rate (2015)\", \"Percent Change in Opioid Overdose Death Rate from Prior Year\":\"% Change in Opioid OD Death Rate from Prior Year (2015)\"})\n",
    "op_2016_rn = op_2016.rename(columns={\"Opioid Overdose Death Rate (Age-Adjusted)\":\"Opioid OD Death Rate (2016)\", \"Percent Change in Opioid Overdose Death Rate from Prior Year\":\"% Change in Opioid OD Death Rate from Prior Year (2016)\"})\n"
   ]
  },
  {
   "cell_type": "code",
   "execution_count": 6,
   "metadata": {},
   "outputs": [],
   "source": [
    "opOD_2012 = op_2012_rn[[\"Opioid OD Death Rate (2012)\"]]\n",
    "opOD_2013 = op_2013_rn[[\"Opioid OD Death Rate (2013)\"]]\n",
    "opOD_2014 = op_2014_rn[[\"Opioid OD Death Rate (2014)\"]]\n",
    "opOD_2015 = op_2015_rn[[\"Opioid OD Death Rate (2015)\"]]\n",
    "opOD_2016 = op_2016_rn[[\"Opioid OD Death Rate (2016)\"]]"
   ]
  },
  {
   "cell_type": "code",
   "execution_count": 7,
   "metadata": {},
   "outputs": [
    {
     "name": "stdout",
     "output_type": "stream",
     "text": [
      "Opioid Overdose Deaths per 100,000 population (Age-Adjusted)\n"
     ]
    },
    {
     "data": {
      "text/html": [
       "<div>\n",
       "<style scoped>\n",
       "    .dataframe tbody tr th:only-of-type {\n",
       "        vertical-align: middle;\n",
       "    }\n",
       "\n",
       "    .dataframe tbody tr th {\n",
       "        vertical-align: top;\n",
       "    }\n",
       "\n",
       "    .dataframe thead th {\n",
       "        text-align: right;\n",
       "    }\n",
       "</style>\n",
       "<table border=\"1\" class=\"dataframe\">\n",
       "  <thead>\n",
       "    <tr style=\"text-align: right;\">\n",
       "      <th></th>\n",
       "      <th>Opioid OD Death Rate (2012)</th>\n",
       "      <th>Opioid OD Death Rate (2013)</th>\n",
       "      <th>Opioid OD Death Rate (2014)</th>\n",
       "      <th>Opioid OD Death Rate (2015)</th>\n",
       "      <th>Opioid OD Death Rate (2016)</th>\n",
       "    </tr>\n",
       "    <tr>\n",
       "      <th>Location</th>\n",
       "      <th></th>\n",
       "      <th></th>\n",
       "      <th></th>\n",
       "      <th></th>\n",
       "      <th></th>\n",
       "    </tr>\n",
       "  </thead>\n",
       "  <tbody>\n",
       "    <tr>\n",
       "      <th>United States</th>\n",
       "      <td>7.4</td>\n",
       "      <td>7.9</td>\n",
       "      <td>9.0</td>\n",
       "      <td>10.4</td>\n",
       "      <td>13.3</td>\n",
       "    </tr>\n",
       "    <tr>\n",
       "      <th>Arizona</th>\n",
       "      <td>8.2</td>\n",
       "      <td>8.2</td>\n",
       "      <td>8.8</td>\n",
       "      <td>10.2</td>\n",
       "      <td>11.4</td>\n",
       "    </tr>\n",
       "    <tr>\n",
       "      <th>Colorado</th>\n",
       "      <td>7.7</td>\n",
       "      <td>8</td>\n",
       "      <td>9.4</td>\n",
       "      <td>8.7</td>\n",
       "      <td>9.5</td>\n",
       "    </tr>\n",
       "    <tr>\n",
       "      <th>Florida</th>\n",
       "      <td>6.9</td>\n",
       "      <td>6.6</td>\n",
       "      <td>7.2</td>\n",
       "      <td>9.4</td>\n",
       "      <td>14.4</td>\n",
       "    </tr>\n",
       "    <tr>\n",
       "      <th>Ohio</th>\n",
       "      <td>12.3</td>\n",
       "      <td>14.6</td>\n",
       "      <td>19.1</td>\n",
       "      <td>24.7</td>\n",
       "      <td>32.9</td>\n",
       "    </tr>\n",
       "    <tr>\n",
       "      <th>Washington</th>\n",
       "      <td>9.7</td>\n",
       "      <td>8.9</td>\n",
       "      <td>9.2</td>\n",
       "      <td>9.3</td>\n",
       "      <td>9.4</td>\n",
       "    </tr>\n",
       "  </tbody>\n",
       "</table>\n",
       "</div>"
      ],
      "text/plain": [
       "              Opioid OD Death Rate (2012) Opioid OD Death Rate (2013)  \\\n",
       "Location                                                                \n",
       "United States                         7.4                         7.9   \n",
       "Arizona                               8.2                         8.2   \n",
       "Colorado                              7.7                           8   \n",
       "Florida                               6.9                         6.6   \n",
       "Ohio                                 12.3                        14.6   \n",
       "Washington                            9.7                         8.9   \n",
       "\n",
       "               Opioid OD Death Rate (2014)  Opioid OD Death Rate (2015)  \\\n",
       "Location                                                                  \n",
       "United States                          9.0                         10.4   \n",
       "Arizona                                8.8                         10.2   \n",
       "Colorado                               9.4                          8.7   \n",
       "Florida                                7.2                          9.4   \n",
       "Ohio                                  19.1                         24.7   \n",
       "Washington                             9.2                          9.3   \n",
       "\n",
       "               Opioid OD Death Rate (2016)  \n",
       "Location                                    \n",
       "United States                         13.3  \n",
       "Arizona                               11.4  \n",
       "Colorado                               9.5  \n",
       "Florida                               14.4  \n",
       "Ohio                                  32.9  \n",
       "Washington                             9.4  "
      ]
     },
     "execution_count": 7,
     "metadata": {},
     "output_type": "execute_result"
    }
   ],
   "source": [
    "merge1 = pd.merge(opOD_2012, opOD_2013, on=\"Location\")\n",
    "merge2 = pd.merge(merge1, opOD_2014, on=\"Location\")\n",
    "merge3 = pd.merge(merge2, opOD_2015, on=\"Location\")\n",
    "OD_merge_table = pd.merge(merge3, opOD_2016, on=\"Location\")\n",
    "print(\"Opioid Overdose Deaths per 100,000 population (Age-Adjusted)\")\n",
    "OD_merge_table"
   ]
  },
  {
   "cell_type": "code",
   "execution_count": 8,
   "metadata": {},
   "outputs": [
    {
     "data": {
      "image/png": "[encoded data removed]",
      "text/plain": [
       "<Figure size 432x288 with 1 Axes>"
      ]
     },
     "metadata": {
      "needs_background": "light"
     },
     "output_type": "display_data"
    }
   ],
   "source": [
    "year = [2012,2013,2014,2015,2016]\n",
    "USOD = [7.4, 7.9, 9.0, 10.4, 13.3]\n",
    "AZOD = [8.2, 8.2, 8.8, 10.2, 11.4]\n",
    "COOD = [7.7, 8, 9.4, 8.7, 9.5]\n",
    "FLOD = [6.9, 6.6, 7.2, 9.4, 14.4]\n",
    "OHOD = [12.3, 14.6, 19.1, 24.7, 32.9]\n",
    "WAOD = [9.7, 8.9, 9.2, 9.3, 9.4]\n",
    "plt.xticks(np.arange(2012, 2016.1, 1))\n",
    "plt.plot(year, USOD, color='blue',label=\"United States\")\n",
    "plt.plot(year, AZOD, color='orange', label=\"Arizona\")\n",
    "plt.plot(year, COOD, color='red', label=\"Colorado\")\n",
    "plt.plot(year, FLOD, color='violet', label=\"Florida\")\n",
    "plt.plot(year, OHOD, color='teal', label=\"Ohio\")\n",
    "plt.plot(year, WAOD, color='g', label=\"Washington\")\n",
    "plt.legend(loc=\"best\")\n",
    "plt.xlabel('Year')\n",
    "plt.ylabel('Death Rate per 100,000 (Age-Adjusted)')\n",
    "plt.title('Opioid Death Rate, 2012-2016')\n",
    "plt.show()"
   ]
  },
  {
   "cell_type": "code",
   "execution_count": 9,
   "metadata": {},
   "outputs": [],
   "source": [
    "opP_2012 = op_2012_rn[[\"% Change in Opioid OD Death Rate from Prior Year (2012)\"]]\n",
    "opP_2013 = op_2013_rn[[\"% Change in Opioid OD Death Rate from Prior Year (2013)\"]]\n",
    "opP_2014 = op_2014_rn[[\"% Change in Opioid OD Death Rate from Prior Year (2014)\"]]\n",
    "opP_2015 = op_2015_rn[[\"% Change in Opioid OD Death Rate from Prior Year (2015)\"]]\n",
    "opP_2016 = op_2016_rn[[\"% Change in Opioid OD Death Rate from Prior Year (2016)\"]]"
   ]
  },
  {
   "cell_type": "code",
   "execution_count": 10,
   "metadata": {},
   "outputs": [
    {
     "data": {
      "text/html": [
       "<div>\n",
       "<style scoped>\n",
       "    .dataframe tbody tr th:only-of-type {\n",
       "        vertical-align: middle;\n",
       "    }\n",
       "\n",
       "    .dataframe tbody tr th {\n",
       "        vertical-align: top;\n",
       "    }\n",
       "\n",
       "    .dataframe thead th {\n",
       "        text-align: right;\n",
       "    }\n",
       "</style>\n",
       "<table border=\"1\" class=\"dataframe\">\n",
       "  <thead>\n",
       "    <tr style=\"text-align: right;\">\n",
       "      <th></th>\n",
       "      <th>% Change in Opioid OD Death Rate from Prior Year (2012)</th>\n",
       "      <th>% Change in Opioid OD Death Rate from Prior Year (2013)</th>\n",
       "      <th>% Change in Opioid OD Death Rate from Prior Year (2014)</th>\n",
       "      <th>% Change in Opioid OD Death Rate from Prior Year (2015)</th>\n",
       "      <th>% Change in Opioid OD Death Rate from Prior Year (2016)</th>\n",
       "    </tr>\n",
       "    <tr>\n",
       "      <th>Location</th>\n",
       "      <th></th>\n",
       "      <th></th>\n",
       "      <th></th>\n",
       "      <th></th>\n",
       "      <th></th>\n",
       "    </tr>\n",
       "  </thead>\n",
       "  <tbody>\n",
       "    <tr>\n",
       "      <th>United States</th>\n",
       "      <td>1.40%</td>\n",
       "      <td>7.00%</td>\n",
       "      <td>14.00%</td>\n",
       "      <td>15.60%</td>\n",
       "      <td>28.00%</td>\n",
       "    </tr>\n",
       "    <tr>\n",
       "      <th>Arizona</th>\n",
       "      <td>-6.80%</td>\n",
       "      <td>0.00%</td>\n",
       "      <td>7.00%</td>\n",
       "      <td>15.90%</td>\n",
       "      <td>12.00%</td>\n",
       "    </tr>\n",
       "    <tr>\n",
       "      <th>Colorado</th>\n",
       "      <td>-3.80%</td>\n",
       "      <td>4.00%</td>\n",
       "      <td>18.00%</td>\n",
       "      <td>-7.40%</td>\n",
       "      <td>9.00%</td>\n",
       "    </tr>\n",
       "    <tr>\n",
       "      <th>Florida</th>\n",
       "      <td>-17.90%</td>\n",
       "      <td>-4.00%</td>\n",
       "      <td>9.00%</td>\n",
       "      <td>30.60%</td>\n",
       "      <td>53.00%</td>\n",
       "    </tr>\n",
       "    <tr>\n",
       "      <th>Ohio</th>\n",
       "      <td>9.80%</td>\n",
       "      <td>19.00%</td>\n",
       "      <td>31.00%</td>\n",
       "      <td>29.30%</td>\n",
       "      <td>33.00%</td>\n",
       "    </tr>\n",
       "    <tr>\n",
       "      <th>Washington</th>\n",
       "      <td>-2.00%</td>\n",
       "      <td>-8.00%</td>\n",
       "      <td>3.00%</td>\n",
       "      <td>1.10%</td>\n",
       "      <td>1.00%</td>\n",
       "    </tr>\n",
       "  </tbody>\n",
       "</table>\n",
       "</div>"
      ],
      "text/plain": [
       "              % Change in Opioid OD Death Rate from Prior Year (2012)  \\\n",
       "Location                                                                \n",
       "United States                                              1.40%        \n",
       "Arizona                                                   -6.80%        \n",
       "Colorado                                                  -3.80%        \n",
       "Florida                                                  -17.90%        \n",
       "Ohio                                                       9.80%        \n",
       "Washington                                                -2.00%        \n",
       "\n",
       "              % Change in Opioid OD Death Rate from Prior Year (2013)  \\\n",
       "Location                                                                \n",
       "United States                                              7.00%        \n",
       "Arizona                                                    0.00%        \n",
       "Colorado                                                   4.00%        \n",
       "Florida                                                   -4.00%        \n",
       "Ohio                                                      19.00%        \n",
       "Washington                                                -8.00%        \n",
       "\n",
       "              % Change in Opioid OD Death Rate from Prior Year (2014)  \\\n",
       "Location                                                                \n",
       "United States                                             14.00%        \n",
       "Arizona                                                    7.00%        \n",
       "Colorado                                                  18.00%        \n",
       "Florida                                                    9.00%        \n",
       "Ohio                                                      31.00%        \n",
       "Washington                                                 3.00%        \n",
       "\n",
       "              % Change in Opioid OD Death Rate from Prior Year (2015)  \\\n",
       "Location                                                                \n",
       "United States                                             15.60%        \n",
       "Arizona                                                   15.90%        \n",
       "Colorado                                                  -7.40%        \n",
       "Florida                                                   30.60%        \n",
       "Ohio                                                      29.30%        \n",
       "Washington                                                 1.10%        \n",
       "\n",
       "              % Change in Opioid OD Death Rate from Prior Year (2016)  \n",
       "Location                                                               \n",
       "United States                                             28.00%       \n",
       "Arizona                                                   12.00%       \n",
       "Colorado                                                   9.00%       \n",
       "Florida                                                   53.00%       \n",
       "Ohio                                                      33.00%       \n",
       "Washington                                                 1.00%       "
      ]
     },
     "execution_count": 10,
     "metadata": {},
     "output_type": "execute_result"
    }
   ],
   "source": [
    "mergeP1 = pd.merge(opP_2012, opP_2013, on=\"Location\")\n",
    "mergeP2 = pd.merge(mergeP1, opP_2014, on=\"Location\")\n",
    "mergeP3 = pd.merge(mergeP2, opP_2015, on=\"Location\")\n",
    "P_merge_table = pd.merge(mergeP3, opP_2016, on=\"Location\")\n",
    "P_merge_table"
   ]
  },
  {
   "cell_type": "code",
   "execution_count": 13,
   "metadata": {},
   "outputs": [
    {
     "data": {
      "image/png": "[encoded data removed]",
      "text/plain": [
       "<Figure size 432x288 with 1 Axes>"
      ]
     },
     "metadata": {
      "needs_background": "light"
     },
     "output_type": "display_data"
    }
   ],
   "source": [
    "year = [2012,2013,2014,2015,2016]\n",
    "USOD_P = [1.40, 7.00, 14.00, 15.60, 28.00]\n",
    "AZOD_P = [-6.80, 0.00, 7.00, 15.90, 12.00]\n",
    "COOD_P = [-3.80, 4.00, 18.00, -7.40, 9.00]\n",
    "FLOD_P = [-17.90, -4.00, 9.00, 30.60, 53.00]\n",
    "OHOD_P = [9.80, 19.00, 31.00, 29.30, 33.00]\n",
    "WAOD_P = [-2.00, -8.00, 3.00, 1.10, 1.00]\n",
    "plt.xticks(np.arange(2012, 2016.1, 1))\n",
    "plt.plot(year, USOD_P, color='blue',label=\"United States\")\n",
    "plt.plot(year, AZOD_P, color='orange', label=\"Arizona\")\n",
    "plt.plot(year, COOD_P, color='red', label=\"Colorado\")\n",
    "plt.plot(year, FLOD_P, color='violet', label=\"Florida\")\n",
    "plt.plot(year, OHOD_P, color='teal', label=\"Ohio\")\n",
    "plt.plot(year, WAOD_P, color='g', label=\"Washington\")\n",
    "plt.legend(loc=\"best\")\n",
    "plt.xlabel('Year')\n",
    "plt.ylabel('% Change in Opioid OD Death Rate from Prior Year')\n",
    "plt.title('Yearly Change in Opioid Death Rate, 2012-2016')\n",
    "plt.show()"
   ]
  },
  {
   "cell_type": "code",
   "execution_count": null,
   "metadata": {},
   "outputs": [],
   "source": []
  }
 ],
 "metadata": {
  "kernelspec": {
   "display_name": "Python 3",
   "language": "python",
   "name": "python3"
  },
  "language_info": {
   "codemirror_mode": {
    "name": "ipython",
    "version": 3
   },
   "file_extension": ".py",
   "mimetype": "text/x-python",
   "name": "python",
   "nbconvert_exporter": "python",
   "pygments_lexer": "ipython3",
   "version": "3.6.6"
  }
 },
 "nbformat": 4,
 "nbformat_minor": 2
}
