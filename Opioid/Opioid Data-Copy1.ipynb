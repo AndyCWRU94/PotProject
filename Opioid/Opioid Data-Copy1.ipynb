{
 "cells": [
  {
   "cell_type": "code",
   "execution_count": 1,
   "metadata": {},
   "outputs": [],
   "source": [
    "import pandas as pd\n",
    "import numpy as np\n",
    "import matplotlib.pyplot as plt\n",
    "\n",
    "opioid_file = \"Opioid Raw Data.csv\"\n",
    "op_data = pd.read_csv(opioid_file)"
   ]
  },
  {
   "cell_type": "code",
   "execution_count": 2,
   "metadata": {},
   "outputs": [
    {
     "data": {
      "text/html": [
       "<div>\n",
       "<style scoped>\n",
       "    .dataframe tbody tr th:only-of-type {\n",
       "        vertical-align: middle;\n",
       "    }\n",
       "\n",
       "    .dataframe tbody tr th {\n",
       "        vertical-align: top;\n",
       "    }\n",
       "\n",
       "    .dataframe thead th {\n",
       "        text-align: right;\n",
       "    }\n",
       "</style>\n",
       "<table border=\"1\" class=\"dataframe\">\n",
       "  <thead>\n",
       "    <tr style=\"text-align: right;\">\n",
       "      <th></th>\n",
       "      <th>State</th>\n",
       "      <th>Year</th>\n",
       "      <th>Opioid Overdose Death Rate (Age-Adjusted)</th>\n",
       "      <th>Percent Change in Opioid Overdose Death Rate from Prior Year</th>\n",
       "    </tr>\n",
       "  </thead>\n",
       "  <tbody>\n",
       "    <tr>\n",
       "      <th>0</th>\n",
       "      <td>United States</td>\n",
       "      <td>2012.0</td>\n",
       "      <td>7.4</td>\n",
       "      <td>1.4</td>\n",
       "    </tr>\n",
       "    <tr>\n",
       "      <th>1</th>\n",
       "      <td>Alabama</td>\n",
       "      <td>2012.0</td>\n",
       "      <td>3.6</td>\n",
       "      <td>-5.3</td>\n",
       "    </tr>\n",
       "    <tr>\n",
       "      <th>2</th>\n",
       "      <td>Alaska</td>\n",
       "      <td>2012.0</td>\n",
       "      <td>10.8</td>\n",
       "      <td>24.1</td>\n",
       "    </tr>\n",
       "    <tr>\n",
       "      <th>3</th>\n",
       "      <td>Arizona</td>\n",
       "      <td>2012.0</td>\n",
       "      <td>8.2</td>\n",
       "      <td>-6.8</td>\n",
       "    </tr>\n",
       "    <tr>\n",
       "      <th>4</th>\n",
       "      <td>Arkansas</td>\n",
       "      <td>2012.0</td>\n",
       "      <td>6.0</td>\n",
       "      <td>-3.2</td>\n",
       "    </tr>\n",
       "  </tbody>\n",
       "</table>\n",
       "</div>"
      ],
      "text/plain": [
       "           State    Year  Opioid Overdose Death Rate (Age-Adjusted)  \\\n",
       "0  United States  2012.0                                        7.4   \n",
       "1        Alabama  2012.0                                        3.6   \n",
       "2         Alaska  2012.0                                       10.8   \n",
       "3        Arizona  2012.0                                        8.2   \n",
       "4       Arkansas  2012.0                                        6.0   \n",
       "\n",
       "   Percent Change in Opioid Overdose Death Rate from Prior Year  \n",
       "0                                                1.4             \n",
       "1                                               -5.3             \n",
       "2                                               24.1             \n",
       "3                                               -6.8             \n",
       "4                                               -3.2             "
      ]
     },
     "execution_count": 2,
     "metadata": {},
     "output_type": "execute_result"
    }
   ],
   "source": [
    "op_data.head()"
   ]
  },
  {
   "cell_type": "code",
   "execution_count": 3,
   "metadata": {},
   "outputs": [],
   "source": [
    "op_df = op_data.dropna(how=\"any\")"
   ]
  },
  {
   "cell_type": "code",
   "execution_count": 4,
   "metadata": {},
   "outputs": [],
   "source": [
    "op_df_rn = op_df.rename(columns={\"Opioid Overdose Death Rate (Age-Adjusted)\":\"Opioid OD Death Rate\", \"Percent Change in Opioid Overdose Death Rate from Prior Year\":\"% Change in Opioid OD Death Rate from Prior Year\"})"
   ]
  },
  {
   "cell_type": "code",
   "execution_count": 5,
   "metadata": {},
   "outputs": [],
   "source": [
    "op_df_rn['Opioid OD Death Rate'] = pd.to_numeric(op_df_rn['Opioid OD Death Rate'])"
   ]
  },
  {
   "cell_type": "code",
   "execution_count": 6,
   "metadata": {},
   "outputs": [],
   "source": [
    "op_df_rn['% Change in Opioid OD Death Rate from Prior Year'] = pd.to_numeric(op_df_rn['% Change in Opioid OD Death Rate from Prior Year'])"
   ]
  },
  {
   "cell_type": "code",
   "execution_count": 7,
   "metadata": {},
   "outputs": [],
   "source": [
    "op_df_rn['Year'] = op_df_rn['Year'].astype(int)"
   ]
  },
  {
   "cell_type": "code",
   "execution_count": 8,
   "metadata": {
    "scrolled": true
   },
   "outputs": [
    {
     "data": {
      "text/html": [
       "<div>\n",
       "<style scoped>\n",
       "    .dataframe tbody tr th:only-of-type {\n",
       "        vertical-align: middle;\n",
       "    }\n",
       "\n",
       "    .dataframe tbody tr th {\n",
       "        vertical-align: top;\n",
       "    }\n",
       "\n",
       "    .dataframe thead th {\n",
       "        text-align: right;\n",
       "    }\n",
       "</style>\n",
       "<table border=\"1\" class=\"dataframe\">\n",
       "  <thead>\n",
       "    <tr style=\"text-align: right;\">\n",
       "      <th></th>\n",
       "      <th>State</th>\n",
       "      <th>Year</th>\n",
       "      <th>Opioid OD Death Rate</th>\n",
       "      <th>% Change in Opioid OD Death Rate from Prior Year</th>\n",
       "    </tr>\n",
       "  </thead>\n",
       "  <tbody>\n",
       "    <tr>\n",
       "      <th>0</th>\n",
       "      <td>United States</td>\n",
       "      <td>2012</td>\n",
       "      <td>7.4</td>\n",
       "      <td>1.4</td>\n",
       "    </tr>\n",
       "    <tr>\n",
       "      <th>1</th>\n",
       "      <td>Alabama</td>\n",
       "      <td>2012</td>\n",
       "      <td>3.6</td>\n",
       "      <td>-5.3</td>\n",
       "    </tr>\n",
       "    <tr>\n",
       "      <th>2</th>\n",
       "      <td>Alaska</td>\n",
       "      <td>2012</td>\n",
       "      <td>10.8</td>\n",
       "      <td>24.1</td>\n",
       "    </tr>\n",
       "    <tr>\n",
       "      <th>3</th>\n",
       "      <td>Arizona</td>\n",
       "      <td>2012</td>\n",
       "      <td>8.2</td>\n",
       "      <td>-6.8</td>\n",
       "    </tr>\n",
       "    <tr>\n",
       "      <th>4</th>\n",
       "      <td>Arkansas</td>\n",
       "      <td>2012</td>\n",
       "      <td>6.0</td>\n",
       "      <td>-3.2</td>\n",
       "    </tr>\n",
       "  </tbody>\n",
       "</table>\n",
       "</div>"
      ],
      "text/plain": [
       "           State  Year  Opioid OD Death Rate  \\\n",
       "0  United States  2012                   7.4   \n",
       "1        Alabama  2012                   3.6   \n",
       "2         Alaska  2012                  10.8   \n",
       "3        Arizona  2012                   8.2   \n",
       "4       Arkansas  2012                   6.0   \n",
       "\n",
       "   % Change in Opioid OD Death Rate from Prior Year  \n",
       "0                                               1.4  \n",
       "1                                              -5.3  \n",
       "2                                              24.1  \n",
       "3                                              -6.8  \n",
       "4                                              -3.2  "
      ]
     },
     "execution_count": 8,
     "metadata": {},
     "output_type": "execute_result"
    }
   ],
   "source": [
    "op_df_rn.head()"
   ]
  },
  {
   "cell_type": "code",
   "execution_count": 9,
   "metadata": {},
   "outputs": [
    {
     "data": {
      "text/html": [
       "<div>\n",
       "<style scoped>\n",
       "    .dataframe tbody tr th:only-of-type {\n",
       "        vertical-align: middle;\n",
       "    }\n",
       "\n",
       "    .dataframe tbody tr th {\n",
       "        vertical-align: top;\n",
       "    }\n",
       "\n",
       "    .dataframe thead th {\n",
       "        text-align: right;\n",
       "    }\n",
       "</style>\n",
       "<table border=\"1\" class=\"dataframe\">\n",
       "  <thead>\n",
       "    <tr style=\"text-align: right;\">\n",
       "      <th></th>\n",
       "      <th>State</th>\n",
       "      <th>Year</th>\n",
       "      <th>Opioid OD Death Rate</th>\n",
       "      <th>% Change in Opioid OD Death Rate from Prior Year</th>\n",
       "    </tr>\n",
       "  </thead>\n",
       "  <tbody>\n",
       "    <tr>\n",
       "      <th>6</th>\n",
       "      <td>Colorado</td>\n",
       "      <td>2012</td>\n",
       "      <td>7.7</td>\n",
       "      <td>-3.8</td>\n",
       "    </tr>\n",
       "    <tr>\n",
       "      <th>58</th>\n",
       "      <td>Colorado</td>\n",
       "      <td>2013</td>\n",
       "      <td>8.0</td>\n",
       "      <td>4.0</td>\n",
       "    </tr>\n",
       "    <tr>\n",
       "      <th>110</th>\n",
       "      <td>Colorado</td>\n",
       "      <td>2014</td>\n",
       "      <td>9.4</td>\n",
       "      <td>18.0</td>\n",
       "    </tr>\n",
       "    <tr>\n",
       "      <th>162</th>\n",
       "      <td>Colorado</td>\n",
       "      <td>2015</td>\n",
       "      <td>8.7</td>\n",
       "      <td>-7.4</td>\n",
       "    </tr>\n",
       "    <tr>\n",
       "      <th>214</th>\n",
       "      <td>Colorado</td>\n",
       "      <td>2016</td>\n",
       "      <td>9.5</td>\n",
       "      <td>9.0</td>\n",
       "    </tr>\n",
       "  </tbody>\n",
       "</table>\n",
       "</div>"
      ],
      "text/plain": [
       "        State  Year  Opioid OD Death Rate  \\\n",
       "6    Colorado  2012                   7.7   \n",
       "58   Colorado  2013                   8.0   \n",
       "110  Colorado  2014                   9.4   \n",
       "162  Colorado  2015                   8.7   \n",
       "214  Colorado  2016                   9.5   \n",
       "\n",
       "     % Change in Opioid OD Death Rate from Prior Year  \n",
       "6                                                -3.8  \n",
       "58                                                4.0  \n",
       "110                                              18.0  \n",
       "162                                              -7.4  \n",
       "214                                               9.0  "
      ]
     },
     "execution_count": 9,
     "metadata": {},
     "output_type": "execute_result"
    }
   ],
   "source": [
    "OP_states_list=op_df_rn[\"State\"].unique().tolist()\n",
    "OP_state_dfs={state:op_df_rn.loc[(op_df[\"State\"] == state),:] for state in OP_states_list}\n",
    "OP_state_dfs[\"Colorado\"]"
   ]
  },
  {
   "cell_type": "code",
   "execution_count": 10,
   "metadata": {},
   "outputs": [
    {
     "data": {
      "text/plain": [
       "[2012, 2013, 2014, 2015, 2016]"
      ]
     },
     "execution_count": 10,
     "metadata": {},
     "output_type": "execute_result"
    }
   ],
   "source": [
    "OP_x_axis=op_df[\"Year\"].unique().astype(int).tolist()\n",
    "OP_x_axis"
   ]
  },
  {
   "cell_type": "code",
   "execution_count": 11,
   "metadata": {},
   "outputs": [
    {
     "data": {
      "text/html": [
       "<div>\n",
       "<style scoped>\n",
       "    .dataframe tbody tr th:only-of-type {\n",
       "        vertical-align: middle;\n",
       "    }\n",
       "\n",
       "    .dataframe tbody tr th {\n",
       "        vertical-align: top;\n",
       "    }\n",
       "\n",
       "    .dataframe thead th {\n",
       "        text-align: right;\n",
       "    }\n",
       "</style>\n",
       "<table border=\"1\" class=\"dataframe\">\n",
       "  <thead>\n",
       "    <tr style=\"text-align: right;\">\n",
       "      <th></th>\n",
       "      <th>State</th>\n",
       "      <th>Year</th>\n",
       "      <th>Opioid OD Death Rate</th>\n",
       "      <th>% Change in Opioid OD Death Rate from Prior Year</th>\n",
       "    </tr>\n",
       "  </thead>\n",
       "  <tbody>\n",
       "    <tr>\n",
       "      <th>1</th>\n",
       "      <td>Alabama</td>\n",
       "      <td>2012</td>\n",
       "      <td>3.6</td>\n",
       "      <td>-5.3</td>\n",
       "    </tr>\n",
       "    <tr>\n",
       "      <th>11</th>\n",
       "      <td>Georgia</td>\n",
       "      <td>2012</td>\n",
       "      <td>5.4</td>\n",
       "      <td>0.0</td>\n",
       "    </tr>\n",
       "    <tr>\n",
       "      <th>13</th>\n",
       "      <td>Idaho</td>\n",
       "      <td>2012</td>\n",
       "      <td>3.9</td>\n",
       "      <td>-23.5</td>\n",
       "    </tr>\n",
       "    <tr>\n",
       "      <th>15</th>\n",
       "      <td>Indiana</td>\n",
       "      <td>2012</td>\n",
       "      <td>5.9</td>\n",
       "      <td>5.4</td>\n",
       "    </tr>\n",
       "    <tr>\n",
       "      <th>16</th>\n",
       "      <td>Iowa</td>\n",
       "      <td>2012</td>\n",
       "      <td>5.9</td>\n",
       "      <td>0.0</td>\n",
       "    </tr>\n",
       "  </tbody>\n",
       "</table>\n",
       "</div>"
      ],
      "text/plain": [
       "      State  Year  Opioid OD Death Rate  \\\n",
       "1   Alabama  2012                   3.6   \n",
       "11  Georgia  2012                   5.4   \n",
       "13    Idaho  2012                   3.9   \n",
       "15  Indiana  2012                   5.9   \n",
       "16     Iowa  2012                   5.9   \n",
       "\n",
       "    % Change in Opioid OD Death Rate from Prior Year  \n",
       "1                                               -5.3  \n",
       "11                                               0.0  \n",
       "13                                             -23.5  \n",
       "15                                               5.4  \n",
       "16                                               0.0  "
      ]
     },
     "execution_count": 11,
     "metadata": {},
     "output_type": "execute_result"
    }
   ],
   "source": [
    "OP_no_mj_states=[\"Idaho\",\"Wyoming\",\"South Dakota\",\"Nebraska\", \"Texas\", \"Kansas\", \"Iowa\",\"Wisconsin\",\"Indiana\",\"Kentucky\",\"Tennessee\",\"Virginia\",\"North Carolina\",\"South Carolina\",\"Georgia\", \"Alabama\",\"Mississippi\"]\n",
    "OP_no_mj_states_df=op_df_rn.loc[(op_df[\"State\"].isin(OP_no_mj_states)),:]\n",
    "OP_no_mj_states_df.head()"
   ]
  },
  {
   "cell_type": "code",
   "execution_count": null,
   "metadata": {},
   "outputs": [],
   "source": []
  },
  {
   "cell_type": "code",
   "execution_count": 12,
   "metadata": {},
   "outputs": [
    {
     "name": "stdout",
     "output_type": "stream",
     "text": [
      "Yearly Averages of States without Legalized Recreational Use of Marijuana*\n",
      "(*Idaho, Wyoming, South Dakota, Nebraska, Texas, Kansas, Iowa, Wisconsin, Indiana, Kentucky, Tennessee, Virginia, North Carolina, South Carolina, Georgia, Alabama, Mississippi)\n"
     ]
    },
    {
     "data": {
      "text/html": [
       "<div>\n",
       "<style scoped>\n",
       "    .dataframe tbody tr th:only-of-type {\n",
       "        vertical-align: middle;\n",
       "    }\n",
       "\n",
       "    .dataframe tbody tr th {\n",
       "        vertical-align: top;\n",
       "    }\n",
       "\n",
       "    .dataframe thead th {\n",
       "        text-align: right;\n",
       "    }\n",
       "</style>\n",
       "<table border=\"1\" class=\"dataframe\">\n",
       "  <thead>\n",
       "    <tr style=\"text-align: right;\">\n",
       "      <th></th>\n",
       "      <th>Opioid OD Death Rate</th>\n",
       "      <th>% Change in Opioid OD Death Rate from Prior Year</th>\n",
       "    </tr>\n",
       "    <tr>\n",
       "      <th>Year</th>\n",
       "      <th></th>\n",
       "      <th></th>\n",
       "    </tr>\n",
       "  </thead>\n",
       "  <tbody>\n",
       "    <tr>\n",
       "      <th>2012</th>\n",
       "      <td>6.400000</td>\n",
       "      <td>2.017647</td>\n",
       "    </tr>\n",
       "    <tr>\n",
       "      <th>2013</th>\n",
       "      <td>6.670588</td>\n",
       "      <td>5.294118</td>\n",
       "    </tr>\n",
       "    <tr>\n",
       "      <th>2014</th>\n",
       "      <td>7.770588</td>\n",
       "      <td>20.235294</td>\n",
       "    </tr>\n",
       "    <tr>\n",
       "      <th>2015</th>\n",
       "      <td>8.594118</td>\n",
       "      <td>10.994118</td>\n",
       "    </tr>\n",
       "    <tr>\n",
       "      <th>2016</th>\n",
       "      <td>10.252941</td>\n",
       "      <td>17.470588</td>\n",
       "    </tr>\n",
       "  </tbody>\n",
       "</table>\n",
       "</div>"
      ],
      "text/plain": [
       "      Opioid OD Death Rate  % Change in Opioid OD Death Rate from Prior Year\n",
       "Year                                                                        \n",
       "2012              6.400000                                          2.017647\n",
       "2013              6.670588                                          5.294118\n",
       "2014              7.770588                                         20.235294\n",
       "2015              8.594118                                         10.994118\n",
       "2016             10.252941                                         17.470588"
      ]
     },
     "execution_count": 12,
     "metadata": {},
     "output_type": "execute_result"
    }
   ],
   "source": [
    "OP_no_mj_states_groupby_year=OP_no_mj_states_df.groupby(\"Year\")\n",
    "OP_no_mj_avg_op=OP_no_mj_states_groupby_year.mean()\n",
    "print(\"Yearly Averages of States without Legalized Recreational Use of Marijuana*\")\n",
    "print(\"(*Idaho, Wyoming, South Dakota, Nebraska, Texas, Kansas, Iowa, Wisconsin, Indiana, Kentucky, Tennessee, Virginia, North Carolina, South Carolina, Georgia, Alabama, Mississippi)\")\n",
    "OP_no_mj_avg_op"
   ]
  },
  {
   "cell_type": "code",
   "execution_count": 13,
   "metadata": {},
   "outputs": [
    {
     "data": {
      "image/png": "[encoded data removed]",
      "text/plain": [
       "<Figure size 432x288 with 1 Axes>"
      ]
     },
     "metadata": {
      "needs_background": "light"
     },
     "output_type": "display_data"
    }
   ],
   "source": [
    "OP_no_mj_op,= plt.plot(OP_x_axis, OP_no_mj_avg_op[\"Opioid OD Death Rate\"], label=\"Non-Legal States\", color=\"red\")\n",
    "OP_colorado_op,= plt.plot(OP_x_axis, OP_state_dfs[\"Colorado\"][\"Opioid OD Death Rate\"], label=\"Colorado\", color=\"green\")\n",
    "OP_washington_op,= plt.plot(OP_x_axis, OP_state_dfs[\"Washington\"][\"Opioid OD Death Rate\"], label=\"Washington\", color=\"teal\")\n",
    "OP_united_states_op,= plt.plot(OP_x_axis, OP_state_dfs[\"United States\"][\"Opioid OD Death Rate\"], label=\"United States Average\", color=\"grey\")\n",
    "\n",
    "plt.legend(loc=\"best\")\n",
    "plt.xlabel('Year')\n",
    "plt.ylabel('Death Rate per 100,000 (Age-Adjusted)')\n",
    "plt.title('Opioid Death Rate, 2012-2016')\n",
    "plt.savefig(\"Opioid_Death_Rate.png\")\n",
    "plt.show()"
   ]
  },
  {
   "cell_type": "code",
   "execution_count": 14,
   "metadata": {},
   "outputs": [
    {
     "data": {
      "image/png": "[encoded data removed]",
      "text/plain": [
       "<Figure size 432x288 with 1 Axes>"
      ]
     },
     "metadata": {
      "needs_background": "light"
     },
     "output_type": "display_data"
    }
   ],
   "source": [
    "OP_no_mj_op,= plt.plot(OP_x_axis, OP_no_mj_avg_op[\"% Change in Opioid OD Death Rate from Prior Year\"], label=\"Non-Legal States\", color=\"red\")\n",
    "OP_colorado_op,= plt.plot(OP_x_axis, OP_state_dfs[\"Colorado\"][\"% Change in Opioid OD Death Rate from Prior Year\"], label=\"Colorado\", color=\"green\")\n",
    "OP_washington_op,= plt.plot(OP_x_axis, OP_state_dfs[\"Washington\"][\"% Change in Opioid OD Death Rate from Prior Year\"], label=\"Washington\", color=\"teal\")\n",
    "OP_united_states_op,= plt.plot(OP_x_axis, OP_state_dfs[\"United States\"][\"% Change in Opioid OD Death Rate from Prior Year\"], label=\"United States Average\", color=\"grey\")\n",
    "\n",
    "plt.legend(loc=\"best\")\n",
    "plt.xlabel('Year')\n",
    "plt.ylabel('% Change in Opioid OD Death Rate from Prior Year')\n",
    "plt.title('Yearly (%) Change in Opioid OD Death Rate, 2012-2016')\n",
    "plt.savefig(\"Yearly_Change_in_Opioid_OD_Death_Rate.png\")\n",
    "plt.show()"
   ]
  },
  {
   "cell_type": "code",
   "execution_count": null,
   "metadata": {},
   "outputs": [],
   "source": []
  }
 ],
 "metadata": {
  "kernelspec": {
   "display_name": "Python 3",
   "language": "python",
   "name": "python3"
  },
  "language_info": {
   "codemirror_mode": {
    "name": "ipython",
    "version": 3
   },
   "file_extension": ".py",
   "mimetype": "text/x-python",
   "name": "python",
   "nbconvert_exporter": "python",
   "pygments_lexer": "ipython3",
   "version": "3.6.6"
  }
 },
 "nbformat": 4,
 "nbformat_minor": 2
}
