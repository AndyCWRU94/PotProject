{
 "cells": [
  {
   "cell_type": "code",
   "execution_count": 1,
   "metadata": {},
   "outputs": [],
   "source": [
    "import pandas as pd\n",
    "import numpy as np\n",
    "import matplotlib.pyplot as plt\n",
    "\n",
    "file1 = \"all_state_violent_crimes.csv\"\n",
    "file2 = \"Opioid Stats.csv\"\n",
    "file3 = \"nibrs_incident.csv\"\n",
    "\n",
    "crime_data = pd.read_csv(file1)\n",
    "opioid_data = pd.read_csv(file2)\n",
    "incident_data = pd.read_csv(file3)\n",
    "\n",
    "\n",
    "# Place holder for the project to analyze the trends legal marijuana causes."
   ]
  },
  {
   "cell_type": "code",
   "execution_count": null,
   "metadata": {},
   "outputs": [],
   "source": []
  }
 ],
 "metadata": {
  "kernelspec": {
   "display_name": "Python 3",
   "language": "python",
   "name": "python3"
  },
  "language_info": {
   "codemirror_mode": {
    "name": "ipython",
    "version": 3
   },
   "file_extension": ".py",
   "mimetype": "text/x-python",
   "name": "python",
   "nbconvert_exporter": "python",
   "pygments_lexer": "ipython3",
   "version": "3.6.6"
  }
 },
 "nbformat": 4,
 "nbformat_minor": 2
}
