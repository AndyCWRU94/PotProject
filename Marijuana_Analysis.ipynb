{
 "cells": [
  {
   "cell_type": "code",
   "execution_count": 51,
   "metadata": {},
   "outputs": [],
   "source": [
    "import pandas as pd\n",
    "import numpy as np\n",
    "import matplotlib.pyplot as plt\n",
    "\n",
    "file1 = \"all_state_violent_crimes.csv\"\n",
    "file2 = \"Opioid Stats.csv\"\n",
    "file3 = \"nibrs_incident.csv\"\n",
    "\n",
    "crime_data = pd.read_csv(file1)\n",
    "opioid_data = pd.read_csv(file2)\n",
    "incident_data = pd.read_csv(file3)\n",
    "\n",
    "clean_crime_data = []\n",
    "crime_data = crime_data.rename(columns={\"year\":\"Year\",\"state_id\":\"State ID\",\"state_abbr\":\"State Abbreviation\",\"state_name\":\"State Name\",\"population\":\"Population\",\"violent_crime\":\"Violent Crime\",\"homicide\":\"Homicide\",\"rape_legacy\":\"Rape Legacy\",\"rape_revised\":\"Rape Revised\",\"robbery\":\"Robbery\",\"aggravated_assault\":\"Aggravated Assault\",\"property_crime\":\"Property Crime\",\"burglary\":\"Burglary\",\"larceny\":\"Larceny\",\"motor_vehicle_theft\":\"Motor Vehicle Theft\"})\n",
    "# Cleaning crime_data dataframe\n",
    "crime_data = crime_data[[\"Year\",\"State Name\",\"Population\",\"Violent Crime\",\"Homicide\", \"Rape Legacy\",\"Rape Revised\",\"Robbery\", \"Aggravated Assault\",\"Property Crime\", \"Burglary\", \"Larceny\", \"Motor Vehicle Theft\"]]\n",
    "\n",
    "                                                 \n",
    "\n",
    "\n",
    "\n",
    "\n",
    "\n",
    "\n"
   ]
  },
  {
   "cell_type": "code",
   "execution_count": null,
   "metadata": {},
   "outputs": [],
   "source": []
  }
 ],
 "metadata": {
  "kernelspec": {
   "display_name": "Python 3",
   "language": "python",
   "name": "python3"
  },
  "language_info": {
   "codemirror_mode": {
    "name": "ipython",
    "version": 3
   },
   "file_extension": ".py",
   "mimetype": "text/x-python",
   "name": "python",
   "nbconvert_exporter": "python",
   "pygments_lexer": "ipython3",
   "version": "3.6.6"
  }
 },
 "nbformat": 4,
 "nbformat_minor": 2
}
